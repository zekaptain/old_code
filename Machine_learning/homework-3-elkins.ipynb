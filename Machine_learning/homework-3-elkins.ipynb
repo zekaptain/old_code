{
 "cells": [
  {
   "cell_type": "code",
   "execution_count": 62,
   "metadata": {
    "collapsed": false
   },
   "outputs": [
    {
     "name": "stdout",
     "output_type": "stream",
     "text": [
      "0.805555555556\n",
      "0.888888888889\n",
      "0.916666666667\n",
      "0.944444444444\n",
      "0.944444444444\n"
     ]
    },
    {
     "data": {
      "image/png": "[encoded data removed]",
      "text/plain": [
       "<matplotlib.figure.Figure at 0x1094a8210>"
      ]
     },
     "metadata": {},
     "output_type": "display_data"
    },
    {
     "data": {
      "text/plain": [
       "'\\n#plot for K-NN\\nxvals=[5,15,25,35,45]\\nyvals=[acc1,acc2,acc3,acc4,acc5]\\nplt.xlabel(\"Number of Neighbors\")\\nplt.ylabel(\"Accuracy\")\\nplt.scatter(xvals, yvals)\\nplt.axis([0,50,0,1.1])\\nplt.show()\\n'"
      ]
     },
     "execution_count": 62,
     "metadata": {},
     "output_type": "execute_result"
    }
   ],
   "source": [
    "import pandas\n",
    "from sklearn import linear_model as lm\n",
    "from sklearn import cross_validation as cv\n",
    "from sklearn import metrics\n",
    "from sklearn import preprocessing as pp\n",
    "from sklearn.metrics import mean_squared_error\n",
    "from sklearn.neighbors import KNeighborsClassifier\n",
    "%matplotlib inline\n",
    "import matplotlib.pyplot as plt\n",
    "\n",
    "#CLASSIFICATION\n",
    "\n",
    "wine_data = pandas.read_csv('wine-data.csv') #use wine data here but UCI isn't working right now so don't know col names\n",
    "#print wine_data\n",
    "\n",
    "\n",
    "\n",
    "# adds three columns -- one for each type of iris. 0 for not that type, 1 for yes\n",
    "bin_species = pp.label_binarize(wine_data[\"Wine_Type\"],classes=[1,2,3])\n",
    "#print bin_species\n",
    "bin_species = pandas.DataFrame(bin_species)\n",
    "#print bin_species\n",
    "wine_data[[\"1\",\"2\",\"3\"]] = bin_species\n",
    "\n",
    "(wine_train,wine_test) = cv.train_test_split(wine_data, test_size = 0.2)\n",
    "\n",
    "predicted = wine_data.columns[-3] #this means the very first column -- -1 for 3, -2 for 2, -3 for 1 \n",
    "predictors = wine_data.columns[1:-3] #every other column besides last three columns and first one\n",
    "\n",
    "\n",
    "epochs = 500\n",
    "#this is for the SGD Classifier function\n",
    "perc_alg = lm.SGDClassifier(eta0=0.000001, n_iter=epochs)\n",
    "\n",
    "#this is for k-Nearest Neighbor algorithm\n",
    "k = 5\n",
    "#perc_alg = KNeighborsClassifier(n_neighbors=k)\n",
    "perc_alg.fit(wine_train[predictors],wine_train[predicted])\n",
    "wine_test_preds = perc_alg.predict(wine_test[predictors])\n",
    "acc1 = metrics.accuracy_score(wine_test[\"1\"],wine_test_preds) \n",
    "print acc1\n",
    "\n",
    "epochs = 1000\n",
    "perc_alg = lm.SGDClassifier(eta0=0.000001, n_iter=epochs)\n",
    "#this is for k-Nearest Neighbor algorithm\n",
    "k = 15\n",
    "#perc_alg = KNeighborsClassifier(n_neighbors=k)\n",
    "perc_alg.fit(wine_train[predictors],wine_train[predicted])\n",
    "wine_test_preds = perc_alg.predict(wine_test[predictors])\n",
    "acc2 = metrics.accuracy_score(wine_test[\"1\"],wine_test_preds) \n",
    "print acc2\n",
    "\n",
    "epochs = 5000\n",
    "perc_alg = lm.SGDClassifier(eta0=0.000001, n_iter=epochs)\n",
    "#this is for k-Nearest Neighbor algorithm\n",
    "k = 25\n",
    "#perc_alg = KNeighborsClassifier(n_neighbors=k)\n",
    "perc_alg.fit(wine_train[predictors],wine_train[predicted])\n",
    "wine_test_preds = perc_alg.predict(wine_test[predictors])\n",
    "acc3 = metrics.accuracy_score(wine_test[\"1\"],wine_test_preds)  \n",
    "print acc3\n",
    "\n",
    "epochs = 10000\n",
    "perc_alg = lm.SGDClassifier(eta0=0.000001, n_iter=epochs)\n",
    "#this is for k-Nearest Neighbor algorithm\n",
    "k = 35\n",
    "#perc_alg = KNeighborsClassifier(n_neighbors=k)\n",
    "perc_alg.fit(wine_train[predictors],wine_train[predicted])\n",
    "wine_test_preds = perc_alg.predict(wine_test[predictors])\n",
    "acc4 = metrics.accuracy_score(wine_test[\"1\"],wine_test_preds)  \n",
    "print acc4\n",
    "\n",
    "epochs = 20000\n",
    "perc_alg = lm.SGDClassifier(eta0=0.000001, n_iter=epochs)\n",
    "#this is for k-Nearest Neighbor algorithm\n",
    "k = 45\n",
    "#perc_alg = KNeighborsClassifier(n_neighbors=k)\n",
    "perc_alg.fit(wine_train[predictors],wine_train[predicted])\n",
    "wine_test_preds = perc_alg.predict(wine_test[predictors])\n",
    "acc5 = metrics.accuracy_score(wine_test[\"1\"],wine_test_preds)  \n",
    "print acc5\n",
    "\n",
    "#plot for SGD Classifier\n",
    "\n",
    "xvals=[500,1000,5000,10000,20000]\n",
    "yvals=[acc1,acc2,acc3,acc4,acc5]\n",
    "plt.xlabel(\"Number of Epochs\")\n",
    "plt.ylabel(\"Accuracy\")\n",
    "plt.scatter(xvals, yvals)\n",
    "plt.axis([0,20500,0,1.1])\n",
    "plt.show()\n",
    "\n",
    "\n",
    "'''\n",
    "#plot for K-NN\n",
    "xvals=[5,15,25,35,45]\n",
    "yvals=[acc1,acc2,acc3,acc4,acc5]\n",
    "plt.xlabel(\"Number of Neighbors\")\n",
    "plt.ylabel(\"Accuracy\")\n",
    "plt.scatter(xvals, yvals)\n",
    "plt.axis([0,50,0,1.1])\n",
    "plt.show()\n",
    "'''\n"
   ]
  },
  {
   "cell_type": "code",
   "execution_count": 44,
   "metadata": {
    "collapsed": false
   },
   "outputs": [
    {
     "name": "stdout",
     "output_type": "stream",
     "text": [
      "11.270985\n",
      "11.3427211111\n",
      "11.1305716\n",
      "10.6840042857\n",
      "10.4879505556\n"
     ]
    },
    {
     "data": {
      "image/png": "[encoded data removed]",
      "text/plain": [
       "<matplotlib.figure.Figure at 0x10a17d2d0>"
      ]
     },
     "metadata": {},
     "output_type": "display_data"
    }
   ],
   "source": [
    "#REGRESSION\n",
    "import pandas\n",
    "from sklearn import linear_model as lm\n",
    "from sklearn import cross_validation as cv\n",
    "from sklearn import metrics\n",
    "from sklearn import preprocessing as pp\n",
    "from sklearn.metrics import mean_squared_error\n",
    "from sklearn.neighbors import KNeighborsRegressor\n",
    "%matplotlib inline\n",
    "import matplotlib.pyplot as plt\n",
    "\n",
    "\n",
    "auto_data = pandas.read_csv('auto-mpg.csv')\n",
    "\n",
    "\n",
    "#fill in missing data\n",
    "meanhp = auto_data['horsepower'].mean()\n",
    "auto_data['horsepower'] = auto_data['horsepower'].fillna(meanhp)\n",
    "\n",
    "\n",
    "(auto_train, auto_test) = cv.train_test_split(auto_data, test_size = 0.2)\n",
    "\n",
    "predicted = auto_data.columns[0]\n",
    "predictors = auto_data.columns[1:-1]\n",
    "\n",
    "epochs = 500\n",
    "#perc_alg = lm.SGDRegressor(eta0=0.0000001, n_iter=epochs)\n",
    "#k nearest neighbor regression\n",
    "k=5\n",
    "perc_alg= KNeighborsRegressor(n_neighbors=k)\n",
    "perc_alg.fit(auto_train[predictors],auto_train[predicted])\n",
    "auto_test_preds = perc_alg.predict(auto_test[predictors])\n",
    "mse1 = mean_squared_error(auto_test[predicted], auto_test_preds) \n",
    "print mse1\n",
    "\n",
    "epochs = 1000\n",
    "#perc_alg = lm.SGDRegressor(eta0=0.0000001, n_iter=epochs)\n",
    "#k nearest neighbor regression\n",
    "k=15\n",
    "perc_alg= KNeighborsRegressor(n_neighbors=k)\n",
    "perc_alg.fit(auto_train[predictors],auto_train[predicted])\n",
    "auto_test_preds = perc_alg.predict(auto_test[predictors])\n",
    "mse2 = mean_squared_error(auto_test[predicted], auto_test_preds) \n",
    "print mse2\n",
    "\n",
    "epochs = 5000\n",
    "#perc_alg = lm.SGDRegressor(eta0=0.0000001, n_iter=epochs)\n",
    "#k nearest neighbor regression\n",
    "k=25\n",
    "perc_alg = KNeighborsRegressor(n_neighbors=k)\n",
    "perc_alg.fit(auto_train[predictors],auto_train[predicted])\n",
    "auto_test_preds = perc_alg.predict(auto_test[predictors])\n",
    "mse3 = mean_squared_error(auto_test[predicted], auto_test_preds) \n",
    "print mse3\n",
    "\n",
    "epochs = 10000\n",
    "#perc_alg = lm.SGDRegressor(eta0=0.0000001, n_iter=epochs)\n",
    "#k nearest neighbor regression\n",
    "k=35\n",
    "perc_alg= KNeighborsRegressor(n_neighbors=k)\n",
    "perc_alg.fit(auto_train[predictors],auto_train[predicted])\n",
    "auto_test_preds = perc_alg.predict(auto_test[predictors])\n",
    "mse4 = mean_squared_error(auto_test[predicted], auto_test_preds) \n",
    "print mse4\n",
    "\n",
    "epochs = 25000\n",
    "#perc_alg = lm.SGDRegressor(eta0=0.0000001, n_iter=epochs)\n",
    "#k nearest neighbor regression\n",
    "k=45\n",
    "perc_alg= KNeighborsRegressor(n_neighbors=k)\n",
    "perc_alg.fit(auto_train[predictors],auto_train[predicted])\n",
    "auto_test_preds = perc_alg.predict(auto_test[predictors])\n",
    "mse5 = mean_squared_error(auto_test[predicted], auto_test_preds) \n",
    "print mse5\n",
    "\n",
    "#plot for SGD Regressor\n",
    "'''\n",
    "xvals=[500,1000,5000,10000,25000]\n",
    "yvals=[mse1,mse2,mse3,mse4,mse5]\n",
    "plt.xlabel(\"Number of Epochs\")\n",
    "plt.ylabel(\"Mean Squared Error\")\n",
    "plt.scatter(xvals, yvals)\n",
    "plt.axis([0,25500,0,70])\n",
    "plt.show()\n",
    "'''\n",
    "\n",
    "#plot for k-NN\n",
    "xvals=[5,15,25,35,45]\n",
    "yvals=[mse1,mse2,mse3,mse4,mse5]\n",
    "plt.xlabel(\"Number of Neighbors\")\n",
    "plt.ylabel(\"Mean Squared Error\")\n",
    "plt.scatter(xvals, yvals)\n",
    "plt.axis([0,50,0,40])\n",
    "plt.show()\n"
   ]
  },
  {
   "cell_type": "code",
   "execution_count": null,
   "metadata": {
    "collapsed": true
   },
   "outputs": [],
   "source": []
  },
  {
   "cell_type": "code",
   "execution_count": null,
   "metadata": {
    "collapsed": true
   },
   "outputs": [],
   "source": []
  }
 ],
 "metadata": {
  "kernelspec": {
   "display_name": "Python 2",
   "language": "python",
   "name": "python2"
  },
  "language_info": {
   "codemirror_mode": {
    "name": "ipython",
    "version": 2
   },
   "file_extension": ".py",
   "mimetype": "text/x-python",
   "name": "python",
   "nbconvert_exporter": "python",
   "pygments_lexer": "ipython2",
   "version": "2.7.10"
  }
 },
 "nbformat": 4,
 "nbformat_minor": 0
}
