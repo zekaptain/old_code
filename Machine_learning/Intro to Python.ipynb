{
 "cells": [
  {
   "cell_type": "code",
   "execution_count": 4,
   "metadata": {
    "collapsed": false
   },
   "outputs": [
    {
     "name": "stdout",
     "output_type": "stream",
     "text": [
      "['abc', 2, 3]\n",
      "['abc', 2, 3]\n",
      "['abc', 2, 90, 3, 70]\n",
      "1\n",
      "5\n",
      "['abc', 2, 90, 3, 70, 'abc', 2, 90, 3, 70]\n"
     ]
    }
   ],
   "source": [
    "x = [1,2,3]\n",
    "y=x\n",
    "x[0] = \"abc\"\n",
    "print y\n",
    "z = x[1]\n",
    "z = \"what\"\n",
    "print x\n",
    "\n",
    "x.append(70)\n",
    "x.insert(2,90)\n",
    "print x\n",
    "\n",
    "print x.index(2)\n",
    "print len(x)\n",
    "print x+x"
   ]
  },
  {
   "cell_type": "code",
   "execution_count": 7,
   "metadata": {
    "collapsed": false
   },
   "outputs": [
    {
     "name": "stdout",
     "output_type": "stream",
     "text": [
      "10 3.14 machine learning hi x [1, 2, 3]\n",
      "<type 'int'> <type 'float'> <type 'str'> <type 'str'> <type 'str'> <type 'list'>\n"
     ]
    }
   ],
   "source": [
    "a = 10\n",
    "b = 3.14\n",
    "c = \"machine learning\"\n",
    "d = 'hi'\n",
    "e = 'x'\n",
    "f = [1,2,3]\n",
    "print a,b,c,d,e,f\n",
    "\n",
    "aty = type(a)\n",
    "bty = type(b)\n",
    "cty = type(c)\n",
    "dty = type(d)\n",
    "ety = type(e)\n",
    "fty = type(f)\n",
    "print aty,bty,cty,dty,ety,fty"
   ]
  },
  {
   "cell_type": "code",
   "execution_count": 11,
   "metadata": {
    "collapsed": false
   },
   "outputs": [
    {
     "name": "stdout",
     "output_type": "stream",
     "text": [
      "[55, 'hello', 'R2D2', 7.8]\n",
      "[33, 55, 'hello', 'R2D2']\n",
      "[7.8, 'banana']\n",
      "[33, 55, 'hello', 'R2D2', 7.8, 'banana']\n",
      "[55, 'hello', 'what', 7.8]\n",
      "[33, 55, 'hello', 'R2D2', 7.8, 'banana']\n",
      "[55, 'hello', 'R2D2', 7.8, 'Drake', 'University', 'Drake', 'University']\n",
      "['Bulldogs', 33, 55, 'hello', 'R2D2', 7.8, 'banana']\n"
     ]
    }
   ],
   "source": [
    "my_list = [33, 55, 'hello', 'R2D2', 7.8, 'banana']\n",
    "print my_list[1:5] #included 1, up to but not including 5\n",
    "print my_list[:4] #0 up to 4\n",
    "print my_list[4:] #4 and up\n",
    "print my_list[:] #everything\n",
    "\n",
    "my_slice = my_list[1:5] #this copies mylist to myslice\n",
    "my_slice[2] = 'what'\n",
    "print my_slice\n",
    "print my_list\n",
    "\n",
    "print my_list[1:5] + 2*['Drake', 'University']\n",
    "\n",
    "my_list[:0] = ['Bulldogs']\n",
    "print my_list"
   ]
  },
  {
   "cell_type": "code",
   "execution_count": 17,
   "metadata": {
    "collapsed": false
   },
   "outputs": [
    {
     "name": "stdout",
     "output_type": "stream",
     "text": [
      "baby\n",
      "l\n",
      "200\n",
      "42\n"
     ]
    },
    {
     "ename": "KeyError",
     "evalue": "1",
     "output_type": "error",
     "traceback": [
      "\u001b[0;31m---------------------------------------------------------------------------\u001b[0m",
      "\u001b[0;31mKeyError\u001b[0m                                  Traceback (most recent call last)",
      "\u001b[0;32m<ipython-input-17-44127fa538ed>\u001b[0m in \u001b[0;36m<module>\u001b[0;34m()\u001b[0m\n\u001b[1;32m     12\u001b[0m \u001b[0;31m#print myList[1][2] #float doesn't have getitem\u001b[0m\u001b[0;34m\u001b[0m\u001b[0;34m\u001b[0m\u001b[0m\n\u001b[1;32m     13\u001b[0m \u001b[0;31m#myTuple[1]=0 #can't assign value to myTuple\u001b[0m\u001b[0;34m\u001b[0m\u001b[0;34m\u001b[0m\u001b[0m\n\u001b[0;32m---> 14\u001b[0;31m \u001b[0;32mprint\u001b[0m \u001b[0mmyDictionary\u001b[0m\u001b[0;34m[\u001b[0m\u001b[0;36m1\u001b[0m\u001b[0;34m]\u001b[0m\u001b[0;34m\u001b[0m\u001b[0m\n\u001b[0m\u001b[1;32m     15\u001b[0m \u001b[0;34m\u001b[0m\u001b[0m\n\u001b[1;32m     16\u001b[0m \u001b[0;34m\u001b[0m\u001b[0m\n",
      "\u001b[0;31mKeyError\u001b[0m: 1"
     ]
    }
   ],
   "source": [
    "#this all works\n",
    "myList = [42, 3.14, 'hello', ['ice', 'ice', 'baby']]\n",
    "print myList[3][2]\n",
    "print myList[2][2] #this is the string hello\n",
    "                #strings can be treated as lists\n",
    "                #printed out L -- h=0, e=1 l=2\n",
    "\n",
    "myTuple = (100, 200, '300')\n",
    "print myTuple[1]\n",
    "\n",
    "myDictionary = {'x':42, 'y':3.14}\n",
    "print myDictionary['x']\n",
    "\n",
    "#these print out errors\n",
    "\n",
    "#print myList[1][2] #float doesn't have getitem\n",
    "#3.14 isn't a list -- it's a number\n",
    "\n",
    "#myTuple[1]=0 #can't assign value to myTuple\n",
    "#tuples are constant - can't be changed\n",
    "\n",
    "#print myDictionary[1] #need to say 'y' instead of 1\n",
    "#array indexed by something other than integer\n",
    "\n",
    "#create a dictionary:\n",
    "# d = {}\n",
    "\n"
   ]
  },
  {
   "cell_type": "code",
   "execution_count": null,
   "metadata": {
    "collapsed": true
   },
   "outputs": [],
   "source": []
  }
 ],
 "metadata": {
  "kernelspec": {
   "display_name": "Python 2",
   "language": "python",
   "name": "python2"
  },
  "language_info": {
   "codemirror_mode": {
    "name": "ipython",
    "version": 2
   },
   "file_extension": ".py",
   "mimetype": "text/x-python",
   "name": "python",
   "nbconvert_exporter": "python",
   "pygments_lexer": "ipython2",
   "version": "2.7.10"
  }
 },
 "nbformat": 4,
 "nbformat_minor": 0
}
