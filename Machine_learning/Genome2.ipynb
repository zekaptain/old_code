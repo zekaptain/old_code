{
 "cells": [
  {
   "cell_type": "code",
   "execution_count": 1,
   "metadata": {
    "collapsed": false
   },
   "outputs": [
    {
     "name": "stdout",
     "output_type": "stream",
     "text": [
      "['5001', '5029,15714', '15885,18127', '21352']\n",
      "[['5001'], ['5029', '15714'], ['15885', '18127'], ['21352']]\n",
      "['5001', '5029', '15714', '15885', '18127', '21352']\n",
      "ataagaggggcgggcaggcatggagccccgtaggaatcgcagcgccagcggttgcaaggt\n",
      "cgtaggaatcgcagcgccagcggttgcaaggtaaggccccggcgcgctccttcctccttc\n",
      "ttgcagtgtgtggttccttctgttttcaggcccaagaagcccatcctgggaaggaaaatg\n",
      "gtcaccaggatcaatgacatttcacacacggtaaggagagtatgcggggacaaagtagaa\n",
      "cacttgttctccctcttcctcctgcatagcagtcagtctcctccaaacagaaagtcaccg\n",
      "aaatctaaataaaataactttgccccctgctctttgtttcctgtcgccgttcctggaggg\n"
     ]
    }
   ],
   "source": [
    "import pandas \n",
    "from sklearn import linear_model as lm\n",
    "from sklearn import cross_validation as cv\n",
    "from sklearn import metrics\n",
    "from sklearn import preprocessing as pp\n",
    "from sklearn.neighbors import KNeighborsClassifier \n",
    "from sklearn.metrics import mean_squared_error\n",
    "%matplotlib inline\n",
    "import matplotlib.pyplot as plt\n",
    "\n",
    "import csv\n",
    "\n",
    "myFile = open(\"Leptin.txt\", \"r\")\n",
    "\n",
    "dnaSeq = myFile.read()\n",
    "#print dnaSeq\n",
    "\n",
    "myFile.close()\n",
    "\n",
    "origin = dnaSeq.find( 'ORIGIN' )\n",
    "\n",
    "startSeq = dnaSeq.find ('1', origin)\n",
    "\n",
    "endSeq = dnaSeq.find ('//', origin)\n",
    "\n",
    "extractedSeq = dnaSeq[startSeq:endSeq].split ('\\n')\n",
    "\n",
    "extractedDNA = \"\"\n",
    "\n",
    "for eachline in extractedSeq:\n",
    "    sublist = eachline.split()\n",
    "    extractedDNA += \"\".join(sublist[1:])\n",
    "\n",
    "#print(extractedDNA)\n",
    "\n",
    "mRNA = dnaSeq.find('mRNA')\n",
    "join = dnaSeq.find('join(', mRNA)\n",
    "joinEnd = dnaSeq.find(')', mRNA)\n",
    "#print dnaSeq[join+5]\n",
    "\n",
    "sequence = dnaSeq[join+5:joinEnd].split('..')\n",
    "print sequence\n",
    "\n",
    "\n",
    "myList = [i.split(',') for i in sequence]\n",
    "print myList\n",
    "\n",
    "subList = []\n",
    "for x in myList:\n",
    "    #print x\n",
    "    for y in x:\n",
    "        #print y\n",
    "        subList.append(y)\n",
    "print subList\n",
    "\n",
    "#initialize the outputted csv file\n",
    "outfile = open('leptin4.csv','w')\n",
    "fieldnames = ['seq','orf']\n",
    "csvwriter = csv.DictWriter(outfile, fieldnames=fieldnames)\n",
    "csvwriter.writeheader()\n",
    "\n",
    "#print out to csv -- done\n",
    "#n = number of base pairs on either side\n",
    "n=30\n",
    "for x in subList:\n",
    "    print extractedDNA[int(x)-n:int(x)+n]\n",
    "    #outfile.write([(extractedDNA[int(x)-n:int(x)+n]), '1'])\n",
    "    csvwriter.writerow({'seq':(extractedDNA[int(x)-13:int(x)+15]), 'orf':'1'})\n",
    "\n",
    "    \n",
    "\n",
    "\n",
    "\n",
    "#after ag\n",
    "#before gu\n",
    "#30 on either side"
   ]
  },
  {
   "cell_type": "code",
   "execution_count": null,
   "metadata": {
    "collapsed": true
   },
   "outputs": [],
   "source": []
  },
  {
   "cell_type": "code",
   "execution_count": null,
   "metadata": {
    "collapsed": true
   },
   "outputs": [],
   "source": []
  }
 ],
 "metadata": {
  "kernelspec": {
   "display_name": "Python 2",
   "language": "python",
   "name": "python2"
  },
  "language_info": {
   "codemirror_mode": {
    "name": "ipython",
    "version": 2
   },
   "file_extension": ".py",
   "mimetype": "text/x-python",
   "name": "python",
   "nbconvert_exporter": "python",
   "pygments_lexer": "ipython2",
   "version": "2.7.10"
  }
 },
 "nbformat": 4,
 "nbformat_minor": 0
}
