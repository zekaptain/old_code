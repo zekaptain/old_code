{
 "cells": [
  {
   "cell_type": "code",
   "execution_count": 13,
   "metadata": {
    "collapsed": false
   },
   "outputs": [
    {
     "name": "stdout",
     "output_type": "stream",
     "text": [
      "1288\n",
      "['Ariel Sharon' 'Colin Powell' 'Donald Rumsfeld' 'George W Bush'\n",
      " 'Gerhard Schroeder' 'Hugo Chavez' 'Tony Blair']\n",
      "image:  [[ 253.66667175  254.33332825  253.66667175 ...,   56.33333206\n",
      "    46.66666794   39.        ]\n",
      " [ 254.          254.          253.         ...,   58.           48.33333206\n",
      "    40.66666794]\n",
      " [ 250.          247.          243.33332825 ...,   56.66666794\n",
      "    48.33333206   42.33333206]\n",
      " ..., \n",
      " [  73.33333588   58.           39.66666794 ...,   94.33333588\n",
      "    91.33333588   86.66666412]\n",
      " [  65.66666412   51.66666794   37.33333206 ...,   90.66666412\n",
      "    90.33333588   85.33333588]\n",
      " [  60.           50.           37.66666794 ...,   87.           88.\n",
      "    86.66666412]]\n"
     ]
    },
    {
     "data": {
      "image/png": "[encoded data removed]",
      "text/plain": [
       "<matplotlib.figure.Figure at 0x103924650>"
      ]
     },
     "metadata": {},
     "output_type": "display_data"
    },
    {
     "name": "stdout",
     "output_type": "stream",
     "text": [
      "5\n",
      "Hugo Chavez\n",
      "data:  [ 253.66667175  254.33332825  253.66667175 ...,   87.           88.\n",
      "   86.66666412]\n",
      "[ 0.18519868  0.14937584  0.07094086  0.05945459  0.05058564  0.02961074\n",
      "  0.02520055  0.02079903  0.01966072  0.01907573  0.01620555  0.01489183\n",
      "  0.01267208  0.01084428  0.01011461  0.00977792  0.00910552  0.00888432\n",
      "  0.00806098  0.00708861  0.00684076  0.00637825  0.00599177  0.00576931\n",
      "  0.00554907  0.00531656  0.00507129  0.00469798  0.00460745  0.00415814\n",
      "  0.00393714  0.00374093  0.00363892  0.00354287  0.00343353  0.00333339\n",
      "  0.00319498  0.00308735  0.00303888  0.00285599  0.00280344  0.00273738\n",
      "  0.00257656  0.00255037  0.00248746  0.00240969  0.0023527   0.00230328\n",
      "  0.00228079  0.00218687  0.00216622  0.00213967  0.00201425  0.00200494\n",
      "  0.00194476  0.00191501  0.00187502  0.0018332   0.00182578  0.00179087\n",
      "  0.00169041  0.00165783  0.00165362  0.0015992   0.0015481   0.00153444\n",
      "  0.00148913  0.00147831  0.00146802  0.00143928  0.00138731  0.00134848\n",
      "  0.00132095  0.00131657  0.00127474  0.00126351  0.00125524  0.00122006\n",
      "  0.0012002   0.00117404  0.00115303  0.00114692  0.00112344  0.00110453\n",
      "  0.00108499  0.00105751  0.00104204  0.00102611  0.0010206   0.00100212\n",
      "  0.00097841  0.00096629  0.00095821  0.00093584  0.00091743  0.00090947\n",
      "  0.00090138  0.00088467  0.00088057  0.00086828]\n",
      "poly\n",
      "2.0\n",
      "0.0\n",
      "0.841085271318\n"
     ]
    }
   ],
   "source": [
    "#Kayla Huff\n",
    "#Homework 4\n",
    "\n",
    "import matplotlib.pyplot as plt\n",
    "%matplotlib inline\n",
    "from sklearn.cross_validation import train_test_split\n",
    "from sklearn.datasets import fetch_lfw_people\n",
    "from sklearn.metrics import accuracy_score\n",
    "from sklearn.svm import SVC\n",
    "import pandas\n",
    "from sklearn import cross_validation as cv\n",
    "from sklearn import metrics\n",
    "from sklearn.decomposition import PCA\n",
    "from sklearn import grid_search\n",
    "\n",
    "#fetch the faces data of people w/ more than 70 photos\n",
    "lfw_people = fetch_lfw_people(min_faces_per_person=70)\n",
    "print len(lfw_people.images)\n",
    "print lfw_people.target_names\n",
    "\n",
    "image_num = 0\n",
    "print \"image: \", lfw_people.images[image_num]\n",
    "#print out picture in grayscale\n",
    "plt.imshow(lfw_people.images[image_num], cmap='gray')\n",
    "plt.show()\n",
    "\n",
    "img_target = lfw_people.target[image_num] #.target gives you a number\n",
    "\n",
    "print img_target\n",
    "print lfw_people.target_names[img_target]\n",
    "\n",
    "print \"data: \", lfw_people.data[image_num]\n",
    "#split into test and train sets\n",
    "(train_data, test_data, train_target, test_target) = train_test_split(lfw_people.data, lfw_people.target, test_size = 0.2)\n",
    "\n",
    "#whiten to true\n",
    "#principal component analysis\n",
    "#components to 100\n",
    "pca = PCA(n_components=100, whiten=True)\n",
    "pca.fit(train_data)\n",
    "transformed_train_data = pca.transform(train_data)\n",
    "transformed_test_data = pca.transform(test_data)\n",
    "#this is the variance/importance of each component\n",
    "print pca.explained_variance_ratio_\n",
    "#print pca.components_[0]\n",
    "#print pca.components_[1]\n",
    "\n",
    "#set parameters using dictionary list\n",
    "parameters = [{'kernel':['linear'], 'C':[1.0,2.0,3.0,4.0,5.0]},{'kernel':['poly'],'degree':[1.0,2.0,3.0,4.0,5.0],'coef0':[0.0,1.0,2.0,3.0,4.0,5.0]},{'kernel':['sigmoid'],'C':[1.0,2.0,3.0,4.0,5.0],'coef0':[0.0,1.0,2.0,3.0,4.0,5.0]}]\n",
    "\n",
    "#grid search \n",
    "clf = grid_search.GridSearchCV(SVC(), parameters)\n",
    "\n",
    "#clf = SVC(kernel=\"linear\", C=3.0)\n",
    "#clf = SVC(kernel=\"poly\", degree=1.0)\n",
    "\n",
    "clf.fit(train_data, train_target)\n",
    "\n",
    "#print off best parameters\n",
    "print clf.best_estimator_.kernel\n",
    "print clf.best_estimator_.degree\n",
    "print clf.best_estimator_.coef0\n",
    "\n",
    "#accuracy\n",
    "predictions = clf.predict(test_data)\n",
    "print accuracy_score(predictions, test_target)\n",
    "\n",
    "#for i in range(len(predictions)):\n",
    "    #plt.imshow(test_data[i].reshape(62,47),cmap='gray')\n",
    "    #plt.show()\n",
    "    \n",
    "    #print \"predicted: \", lfw_people.target_names[predictions[i]], \"actual: \", lfw_people.target_names[test_target[i]]"
   ]
  },
  {
   "cell_type": "code",
   "execution_count": null,
   "metadata": {
    "collapsed": true
   },
   "outputs": [],
   "source": []
  }
 ],
 "metadata": {
  "kernelspec": {
   "display_name": "Python 2",
   "language": "python",
   "name": "python2"
  },
  "language_info": {
   "codemirror_mode": {
    "name": "ipython",
    "version": 2
   },
   "file_extension": ".py",
   "mimetype": "text/x-python",
   "name": "python",
   "nbconvert_exporter": "python",
   "pygments_lexer": "ipython2",
   "version": "2.7.10"
  }
 },
 "nbformat": 4,
 "nbformat_minor": 0
}
