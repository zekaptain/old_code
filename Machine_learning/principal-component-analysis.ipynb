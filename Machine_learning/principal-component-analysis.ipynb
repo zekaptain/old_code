{
 "cells": [
  {
   "cell_type": "code",
   "execution_count": 7,
   "metadata": {
    "collapsed": false
   },
   "outputs": [
    {
     "name": "stdout",
     "output_type": "stream",
     "text": [
      "[ 0.92424741  0.0545434 ]\n",
      "[-0.36017485  0.07913928 -0.85833855 -0.35674359]\n",
      "[-0.65756082 -0.72829212  0.18036716  0.06835238]\n",
      "            0         1          species\n",
      "0   -1.022115  0.340069   Iris-virginica\n",
      "1   -0.710454  1.547839   Iris-virginica\n",
      "2   -1.194489  0.471540   Iris-virginica\n",
      "3   -0.510135  1.068548  Iris-versicolor\n",
      "4    0.043297  0.473615  Iris-versicolor\n",
      "5    1.086835 -1.570973      Iris-setosa\n",
      "6   -1.097017  0.396400   Iris-virginica\n",
      "7    1.355646  0.122816      Iris-setosa\n",
      "8   -0.220348  0.098185  Iris-versicolor\n",
      "9   -0.165727  0.509063  Iris-versicolor\n",
      "10  -0.770255 -1.063081  Iris-versicolor\n",
      "11   1.267629 -2.469100      Iris-setosa\n",
      "12   1.297934 -0.279630      Iris-setosa\n",
      "13  -1.729525 -1.144431   Iris-virginica\n",
      "14  -0.745361  1.138893   Iris-virginica\n",
      "15  -0.667448  0.328409   Iris-virginica\n",
      "16   1.259271 -0.391547      Iris-setosa\n",
      "17   0.307841  2.019618  Iris-versicolor\n",
      "18   1.283063  0.175076      Iris-setosa\n",
      "19  -0.362064 -0.074361  Iris-versicolor\n",
      "20  -1.089415 -0.795108   Iris-virginica\n",
      "21  -0.503860 -0.992626  Iris-versicolor\n",
      "22   1.152381 -0.900866      Iris-setosa\n",
      "23  -0.208487  0.397632  Iris-versicolor\n",
      "24  -0.731837  0.379697   Iris-virginica\n",
      "25  -0.230115  0.560351  Iris-versicolor\n",
      "26  -0.124899  1.350321  Iris-versicolor\n",
      "27  -0.829941  1.059942   Iris-virginica\n",
      "28  -0.799982  0.728015   Iris-virginica\n",
      "29  -1.492332 -1.628095   Iris-virginica\n",
      "..        ...       ...              ...\n",
      "90   1.240643  0.360189      Iris-setosa\n",
      "91  -1.108689 -0.319952   Iris-virginica\n",
      "92   1.102604 -0.855107      Iris-setosa\n",
      "93  -0.156886  0.784670  Iris-versicolor\n",
      "94  -0.485737  0.035677  Iris-versicolor\n",
      "95  -1.341540 -1.167635   Iris-virginica\n",
      "96  -0.397807 -0.342982  Iris-versicolor\n",
      "97  -1.569849 -1.435024   Iris-virginica\n",
      "98   1.138035 -2.791375      Iris-setosa\n",
      "99  -0.273632  1.334966  Iris-versicolor\n",
      "100  1.318977  0.591969      Iris-setosa\n",
      "101 -1.209917  0.052217   Iris-virginica\n",
      "102 -0.444971 -0.433962  Iris-versicolor\n",
      "103  1.309715 -0.725903      Iris-setosa\n",
      "104  1.435974  0.935665      Iris-setosa\n",
      "105 -0.132753  1.647836  Iris-versicolor\n",
      "106 -0.038542  1.432857  Iris-versicolor\n",
      "107  1.199565 -1.375062      Iris-setosa\n",
      "108 -1.118060 -0.475198   Iris-virginica\n",
      "109 -0.927347  0.999118   Iris-virginica\n",
      "110 -1.453282 -0.790423   Iris-virginica\n",
      "111  1.443827  0.638150      Iris-setosa\n",
      "112 -0.703873 -0.533299  Iris-versicolor\n",
      "113 -0.989543 -0.128598   Iris-virginica\n",
      "114 -0.598126  0.136309  Iris-versicolor\n",
      "115 -0.582779 -0.190089  Iris-versicolor\n",
      "116 -0.816432 -0.580938  Iris-versicolor\n",
      "117 -0.684313  0.202045   Iris-virginica\n",
      "118  1.214516 -1.084047      Iris-setosa\n",
      "119 -0.532254  0.221275  Iris-versicolor\n",
      "\n",
      "[120 rows x 3 columns]\n"
     ]
    },
    {
     "data": {
      "image/png": "[encoded data removed]",
      "text/plain": [
       "<matplotlib.figure.Figure at 0x10923cb10>"
      ]
     },
     "metadata": {},
     "output_type": "display_data"
    },
    {
     "name": "stdout",
     "output_type": "stream",
     "text": [
      "0.966666666667\n"
     ]
    }
   ],
   "source": [
    "import pandas\n",
    "from sklearn import cross_validation as cv\n",
    "from sklearn import metrics\n",
    "from sklearn.svm import SVC\n",
    "import matplotlib.pyplot as plt\n",
    "%matplotlib inline\n",
    "from sklearn.decomposition import PCA #new one!\n",
    "\n",
    "\n",
    "iris_data = pandas.read_csv('irisData.csv')\n",
    "\n",
    "predictors = [\"sepal length\",\"sepal width\",\"petal length\",\"petal width\"]\n",
    "\n",
    "(train, test) = cv.train_test_split(iris_data, test_size = 0.2)\n",
    "\n",
    "#whiten = True is important for uncorrelated\n",
    "#attributes, and is False by default\n",
    "pca = PCA(n_components=2, whiten=True)\n",
    "pca.fit(train[predictors])\n",
    "transformed_train_data = pca.transform(train[predictors])\n",
    "transformed_test_data = pca.transform(test[predictors])\n",
    "#this is the variance/importance of each component\n",
    "print pca.explained_variance_ratio_\n",
    "print pca.components_[0]\n",
    "print pca.components_[1]\n",
    "\n",
    "\n",
    "#PCA gives it back as numpy array\n",
    "tdf = pandas.DataFrame(transformed_train_data)\n",
    "#next line: probably not the best way\n",
    "tdf['species'] = pandas.Series(list(train['species']))\n",
    "print tdf\n",
    "setosa_series = tdf[ tdf['species'] == 'Iris-setosa' ]\n",
    "virginica_series = tdf[ tdf['species'] == 'Iris-virginica' ]\n",
    "versicolor_series = tdf[ tdf['species'] == 'Iris-versicolor']\n",
    "plt.plot(setosa_series[0],setosa_series[1],'ro')\n",
    "plt.plot(virginica_series[0],virginica_series[1],'bs')\n",
    "plt.plot(versicolor_series[0],versicolor_series[1],'g^')\n",
    "plt.show()\n",
    "\n",
    "clf = SVC(kernel='linear')\n",
    "clf.fit(transformed_train_data,train['species'])\n",
    "predictions = clf.predict(transformed_test_data)\n",
    "print metrics.accuracy_score(test['species'], predictions)\n",
    "\n"
   ]
  },
  {
   "cell_type": "code",
   "execution_count": null,
   "metadata": {
    "collapsed": true
   },
   "outputs": [],
   "source": []
  }
 ],
 "metadata": {
  "kernelspec": {
   "display_name": "Python 2",
   "language": "python",
   "name": "python2"
  },
  "language_info": {
   "codemirror_mode": {
    "name": "ipython",
    "version": 2
   },
   "file_extension": ".py",
   "mimetype": "text/x-python",
   "name": "python",
   "nbconvert_exporter": "python",
   "pygments_lexer": "ipython2",
   "version": "2.7.10"
  }
 },
 "nbformat": 4,
 "nbformat_minor": 0
}
